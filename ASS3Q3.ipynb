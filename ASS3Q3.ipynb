{
 "cells": [
  {
   "cell_type": "code",
   "execution_count": 21,
   "id": "da4f3920",
   "metadata": {},
   "outputs": [],
   "source": [
    "from sklearn.linear_model import SGDRegressor\n",
    "from sklearn.model_selection import train_test_split\n",
    "from sklearn.metrics import r2_score\n",
    "import pandas as pd"
   ]
  },
  {
   "cell_type": "code",
   "execution_count": 22,
   "id": "4cb2845b",
   "metadata": {},
   "outputs": [
    {
     "name": "stdout",
     "output_type": "stream",
     "text": [
      "<class 'pandas.core.frame.DataFrame'>\n",
      "RangeIndex: 5000 entries, 0 to 4999\n",
      "Data columns (total 6 columns):\n",
      " #   Column                        Non-Null Count  Dtype  \n",
      "---  ------                        --------------  -----  \n",
      " 0   Avg. Area Income              5000 non-null   float64\n",
      " 1   Avg. Area House Age           5000 non-null   float64\n",
      " 2   Avg. Area Number of Rooms     5000 non-null   float64\n",
      " 3   Avg. Area Number of Bedrooms  5000 non-null   float64\n",
      " 4   Area Population               5000 non-null   float64\n",
      " 5   Price                         5000 non-null   float64\n",
      "dtypes: float64(6)\n",
      "memory usage: 234.5 KB\n",
      "None\n",
      "       Avg. Area Income  Avg. Area House Age  Avg. Area Number of Rooms  \\\n",
      "count       5000.000000          5000.000000                5000.000000   \n",
      "mean       68583.108984             5.977222                   6.987792   \n",
      "std        10657.991214             0.991456                   1.005833   \n",
      "min        17796.631190             2.644304                   3.236194   \n",
      "25%        61480.562390             5.322283                   6.299250   \n",
      "50%        68804.286405             5.970429                   7.002902   \n",
      "75%        75783.338665             6.650808                   7.665871   \n",
      "max       107701.748400             9.519088                  10.759588   \n",
      "\n",
      "       Avg. Area Number of Bedrooms  Area Population         Price  \n",
      "count                   5000.000000      5000.000000  5.000000e+03  \n",
      "mean                       3.981330     36163.516039  1.232073e+06  \n",
      "std                        1.234137      9925.650114  3.531176e+05  \n",
      "min                        2.000000       172.610686  1.593866e+04  \n",
      "25%                        3.140000     29403.928700  9.975771e+05  \n",
      "50%                        4.050000     36199.406690  1.232669e+06  \n",
      "75%                        4.490000     42861.290770  1.471210e+06  \n",
      "max                        6.500000     69621.713380  2.469066e+06  \n"
     ]
    }
   ],
   "source": [
    "d = pd.read_csv(r\"C:\\Users\\CSED\\Desktop\\USA_Housing.csv\")\n",
    "print(d.info())\n",
    "print(d.describe())"
   ]
  },
  {
   "cell_type": "code",
   "execution_count": 23,
   "id": "de65e9ed",
   "metadata": {},
   "outputs": [],
   "source": [
    "X = d.drop(['Price'],axis=1)\n",
    "y = d['Price']"
   ]
  },
  {
   "cell_type": "code",
   "execution_count": 24,
   "id": "8bfd2711",
   "metadata": {},
   "outputs": [],
   "source": [
    "X_train, X_temp, y_train, y_temp = train_test_split(X,y,test_size=0.44,random_state=42)\n",
    "val=14/44\n",
    "X_val,X_test,y_val,y_test = train_test_split(X_temp,y_temp,test_size=1-val,random_state=42)"
   ]
  },
  {
   "cell_type": "code",
   "execution_count": 26,
   "id": "3b5a7809",
   "metadata": {},
   "outputs": [],
   "source": [
    "lr = [0.001,0.01,0.1,1]\n",
    "resv = []\n",
    "rest = []\n",
    "\n",
    "for l in lr:\n",
    "    model = SGDRegressor(learning_rate='constant',eta0=l,max_iter=1000,tol=None)\n",
    "    model.fit(X_train,y_train)\n",
    "    r2v = r2_score(y_val,model.predict(X_val))\n",
    "    r2t = r2_score(y_test,model.predict(X_test))\n",
    "    resv.append(r2v)\n",
    "    rest.append(r2t)"
   ]
  },
  {
   "cell_type": "code",
   "execution_count": 27,
   "id": "b0e34602",
   "metadata": {},
   "outputs": [
    {
     "name": "stdout",
     "output_type": "stream",
     "text": [
      "-7.634775455278129e+24\n",
      "-6.926607810650039e+24\n"
     ]
    }
   ],
   "source": [
    "bestv = max(resv) \n",
    "bestt = max(rest)\n",
    "print(bestv)\n",
    "print(bestt)"
   ]
  },
  {
   "cell_type": "code",
   "execution_count": null,
   "id": "46896017",
   "metadata": {},
   "outputs": [],
   "source": []
  }
 ],
 "metadata": {
  "kernelspec": {
   "display_name": "Python 3 (ipykernel)",
   "language": "python",
   "name": "python3"
  },
  "language_info": {
   "codemirror_mode": {
    "name": "ipython",
    "version": 3
   },
   "file_extension": ".py",
   "mimetype": "text/x-python",
   "name": "python",
   "nbconvert_exporter": "python",
   "pygments_lexer": "ipython3",
   "version": "3.9.12"
  }
 },
 "nbformat": 4,
 "nbformat_minor": 5
}
