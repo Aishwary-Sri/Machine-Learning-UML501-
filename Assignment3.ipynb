{
  "nbformat": 4,
  "nbformat_minor": 0,
  "metadata": {
    "colab": {
      "provenance": []
    },
    "kernelspec": {
      "name": "python3",
      "display_name": "Python 3"
    },
    "language_info": {
      "name": "python"
    }
  },
  "cells": [
    {
      "cell_type": "code",
      "execution_count": 1,
      "metadata": {
        "id": "UF3Wk9jsURvw"
      },
      "outputs": [],
      "source": [
        "import pandas as pd"
      ]
    },
    {
      "cell_type": "markdown",
      "source": [
        "Question 1:"
      ],
      "metadata": {
        "id": "Rlrd7aFcZBeN"
      }
    },
    {
      "cell_type": "code",
      "source": [
        "data = {\n",
        "    'TID':['1','2','3','4','5','6','7','8','9','10'],\n",
        "    'Refund':['Yes','No','No','Yes','No','No','Yes','No','No','No'],\n",
        "    'Marital Status':['Single','Married','Single','Married','Divorced','Married','Divorced','Single','Married','Single'],\n",
        "    'Cheat':['No','No','No','No','Yes','No','No','Yes','No','Yes']}\n",
        "\n",
        "df = pd.DataFrame(data)\n",
        "print(df)"
      ],
      "metadata": {
        "colab": {
          "base_uri": "https://localhost:8080/"
        },
        "id": "ejO3nYHjZEqK",
        "outputId": "df63877e-5a76-4861-d5f0-79768abca2cd"
      },
      "execution_count": 2,
      "outputs": [
        {
          "output_type": "stream",
          "name": "stdout",
          "text": [
            "  TID Refund Marital Status Cheat\n",
            "0   1    Yes         Single    No\n",
            "1   2     No        Married    No\n",
            "2   3     No         Single    No\n",
            "3   4    Yes        Married    No\n",
            "4   5     No       Divorced   Yes\n",
            "5   6     No        Married    No\n",
            "6   7    Yes       Divorced    No\n",
            "7   8     No         Single   Yes\n",
            "8   9     No        Married    No\n",
            "9  10     No         Single   Yes\n"
          ]
        }
      ]
    },
    {
      "cell_type": "markdown",
      "source": [
        "Question 2:"
      ],
      "metadata": {
        "id": "4ZLUICGeal5j"
      }
    },
    {
      "cell_type": "code",
      "source": [
        "print(df.loc[[0, 4, 7, 8]])"
      ],
      "metadata": {
        "colab": {
          "base_uri": "https://localhost:8080/"
        },
        "id": "FGIJGTM-anvY",
        "outputId": "37ac029e-c1ba-4aa4-b2ac-94b3a8b6b3bd"
      },
      "execution_count": 3,
      "outputs": [
        {
          "output_type": "stream",
          "name": "stdout",
          "text": [
            "  TID Refund Marital Status Cheat\n",
            "0   1    Yes         Single    No\n",
            "4   5     No       Divorced   Yes\n",
            "7   8     No         Single   Yes\n",
            "8   9     No        Married    No\n"
          ]
        }
      ]
    },
    {
      "cell_type": "markdown",
      "source": [
        "Question 3:"
      ],
      "metadata": {
        "id": "jTE28-Ohavdp"
      }
    },
    {
      "cell_type": "code",
      "source": [
        "# 1\n",
        "print(df.iloc[3:8])\n",
        "\n",
        "# 2\n",
        "print(df.iloc[4:9, 2:5])\n",
        "\n",
        "# 3\n",
        "print(df.iloc[:, 1:4])"
      ],
      "metadata": {
        "colab": {
          "base_uri": "https://localhost:8080/"
        },
        "id": "DndSMC3yaymw",
        "outputId": "30b53623-359d-45d3-ef7f-5f67acd44d1d"
      },
      "execution_count": 4,
      "outputs": [
        {
          "output_type": "stream",
          "name": "stdout",
          "text": [
            "  TID Refund Marital Status Cheat\n",
            "3   4    Yes        Married    No\n",
            "4   5     No       Divorced   Yes\n",
            "5   6     No        Married    No\n",
            "6   7    Yes       Divorced    No\n",
            "7   8     No         Single   Yes\n",
            "  Marital Status Cheat\n",
            "4       Divorced   Yes\n",
            "5        Married    No\n",
            "6       Divorced    No\n",
            "7         Single   Yes\n",
            "8        Married    No\n",
            "  Refund Marital Status Cheat\n",
            "0    Yes         Single    No\n",
            "1     No        Married    No\n",
            "2     No         Single    No\n",
            "3    Yes        Married    No\n",
            "4     No       Divorced   Yes\n",
            "5     No        Married    No\n",
            "6    Yes       Divorced    No\n",
            "7     No         Single   Yes\n",
            "8     No        Married    No\n",
            "9     No         Single   Yes\n"
          ]
        }
      ]
    },
    {
      "cell_type": "markdown",
      "source": [
        "Question 4:"
      ],
      "metadata": {
        "id": "GluhR3SqbT18"
      }
    },
    {
      "cell_type": "code",
      "source": [
        "from sklearn.datasets import load_iris\n",
        "\n",
        "iris = load_iris()\n",
        "iris_df = pd.DataFrame(data=iris.data, columns=iris.feature_names)\n",
        "iris_df['target'] = iris.target\n",
        "print(iris_df.head())"
      ],
      "metadata": {
        "colab": {
          "base_uri": "https://localhost:8080/"
        },
        "id": "sIdAi4VcbVj-",
        "outputId": "20de91af-6755-42a7-84e5-0b629139f059"
      },
      "execution_count": 5,
      "outputs": [
        {
          "output_type": "stream",
          "name": "stdout",
          "text": [
            "   sepal length (cm)  sepal width (cm)  petal length (cm)  petal width (cm)  \\\n",
            "0                5.1               3.5                1.4               0.2   \n",
            "1                4.9               3.0                1.4               0.2   \n",
            "2                4.7               3.2                1.3               0.2   \n",
            "3                4.6               3.1                1.5               0.2   \n",
            "4                5.0               3.6                1.4               0.2   \n",
            "\n",
            "   target  \n",
            "0       0  \n",
            "1       0  \n",
            "2       0  \n",
            "3       0  \n",
            "4       0  \n"
          ]
        }
      ]
    },
    {
      "cell_type": "markdown",
      "source": [
        "Question 5:"
      ],
      "metadata": {
        "id": "SucJyVkzbomj"
      }
    },
    {
      "cell_type": "code",
      "source": [
        "iris_modified = iris_df.drop(index=4).drop(iris_df.columns[3], axis=1)\n",
        "print(iris_modified.head())"
      ],
      "metadata": {
        "colab": {
          "base_uri": "https://localhost:8080/"
        },
        "id": "RrmessTVbqJU",
        "outputId": "87411ef5-1baa-409b-a35f-7ba26581b778"
      },
      "execution_count": 6,
      "outputs": [
        {
          "output_type": "stream",
          "name": "stdout",
          "text": [
            "   sepal length (cm)  sepal width (cm)  petal length (cm)  target\n",
            "0                5.1               3.5                1.4       0\n",
            "1                4.9               3.0                1.4       0\n",
            "2                4.7               3.2                1.3       0\n",
            "3                4.6               3.1                1.5       0\n",
            "5                5.4               3.9                1.7       0\n"
          ]
        }
      ]
    },
    {
      "cell_type": "markdown",
      "source": [
        "Question 6:"
      ],
      "metadata": {
        "id": "THKzZlbnb28Z"
      }
    },
    {
      "cell_type": "code",
      "source": [
        "emp_data = {\n",
        "    'Employee_ID': [101, 102, 103, 104, 105],\n",
        "    'Name': ['Alice', 'Bob', 'Charlie', 'Diana', 'Edward'],\n",
        "    'Department': ['HR', 'IT', 'IT', 'Marketing', 'Sales'],\n",
        "    'Age': [29, 34, 41, 28, 38],\n",
        "    'Salary': [50000, 70000, 65000, 55000, 60000],\n",
        "    'Years_of_Experience': [4, 8, 10, 3, 12],\n",
        "    'Joining_Date': ['2020-03-15', '2017-07-19', '2013-06-01', '2021-02-10', '2010-11-25'],\n",
        "    'Gender': ['Female', 'Male', 'Male', 'Female', 'Male'],\n",
        "    'Bonus': [5000, 7000, 6000, 4500, 5000],\n",
        "    'Rating': [4.5, 4.0, 3.8, 4.7, 3.5]\n",
        "}\n",
        "emp_df = pd.DataFrame(emp_data)\n",
        "emp_df['Joining_Date'] = pd.to_datetime(emp_df['Joining_Date'])\n",
        "emp_df.to_csv('employees.csv', index=False)\n",
        "emp_df.head()\n",
        "\n",
        "\n",
        "\n",
        "# a)\n",
        "print(emp_df.shape)\n",
        "\n",
        "# b)\n",
        "print(emp_df.info())\n",
        "\n",
        "# c)\n",
        "print(emp_df.describe(include='all'))\n",
        "\n",
        "# d)\n",
        "print(emp_df.head())\n",
        "print(emp_df.tail(3))\n",
        "\n",
        "\n",
        "# e)\n",
        "print(\"Average Salary:\", emp_df['Salary'].mean())\n",
        "print(\"Total Bonus:\", emp_df['Bonus'].sum())\n",
        "print(\"Youngest Age:\", emp_df['Age'].min())\n",
        "print(\"Highest Rating:\", emp_df['Rating'].max())\n",
        "\n",
        "# f)\n",
        "print(emp_df.sort_values(by='Salary', ascending=False))\n",
        "\n",
        "\n",
        "# g)\n",
        "def performance_category(rating):\n",
        "    if rating >= 4.5:\n",
        "        return \"Excellent\"\n",
        "    elif rating >= 4.0:\n",
        "        return \"Good\"\n",
        "    else:\n",
        "        return \"Average\"\n",
        "\n",
        "emp_df['Performance'] = emp_df['Rating'].apply(performance_category)\n",
        "\n",
        "# h)\n",
        "print(emp_df.isnull().sum())\n",
        "\n",
        "\n",
        "# i)\n",
        "emp_df.rename(columns={'Employee_ID': 'ID'}, inplace=True)\n",
        "\n",
        "# j)\n",
        "print(emp_df[emp_df['Years_of_Experience'] > 5])\n",
        "print(emp_df[emp_df['Department'] == 'IT'])\n",
        "\n",
        "# k)\n",
        "emp_df['Tax'] = emp_df['Salary'] * 0.10\n",
        "\n",
        "\n",
        "# l)\n",
        "emp_df.to_csv('employees_modified.csv', index=False)"
      ],
      "metadata": {
        "colab": {
          "base_uri": "https://localhost:8080/"
        },
        "id": "wmJXKTbrb4y2",
        "outputId": "ebb98910-975f-4621-dc14-92e0309f426a"
      },
      "execution_count": 7,
      "outputs": [
        {
          "output_type": "stream",
          "name": "stdout",
          "text": [
            "(5, 10)\n",
            "<class 'pandas.core.frame.DataFrame'>\n",
            "RangeIndex: 5 entries, 0 to 4\n",
            "Data columns (total 10 columns):\n",
            " #   Column               Non-Null Count  Dtype         \n",
            "---  ------               --------------  -----         \n",
            " 0   Employee_ID          5 non-null      int64         \n",
            " 1   Name                 5 non-null      object        \n",
            " 2   Department           5 non-null      object        \n",
            " 3   Age                  5 non-null      int64         \n",
            " 4   Salary               5 non-null      int64         \n",
            " 5   Years_of_Experience  5 non-null      int64         \n",
            " 6   Joining_Date         5 non-null      datetime64[ns]\n",
            " 7   Gender               5 non-null      object        \n",
            " 8   Bonus                5 non-null      int64         \n",
            " 9   Rating               5 non-null      float64       \n",
            "dtypes: datetime64[ns](1), float64(1), int64(5), object(3)\n",
            "memory usage: 532.0+ bytes\n",
            "None\n",
            "        Employee_ID   Name Department        Age       Salary  \\\n",
            "count      5.000000      5          5   5.000000      5.00000   \n",
            "unique          NaN      5          4        NaN          NaN   \n",
            "top             NaN  Alice         IT        NaN          NaN   \n",
            "freq            NaN      1          2        NaN          NaN   \n",
            "mean     103.000000    NaN        NaN  34.000000  60000.00000   \n",
            "min      101.000000    NaN        NaN  28.000000  50000.00000   \n",
            "25%      102.000000    NaN        NaN  29.000000  55000.00000   \n",
            "50%      103.000000    NaN        NaN  34.000000  60000.00000   \n",
            "75%      104.000000    NaN        NaN  38.000000  65000.00000   \n",
            "max      105.000000    NaN        NaN  41.000000  70000.00000   \n",
            "std        1.581139    NaN        NaN   5.612486   7905.69415   \n",
            "\n",
            "        Years_of_Experience         Joining_Date Gender   Bonus    Rating  \n",
            "count              5.000000                    5      5     5.0  5.000000  \n",
            "unique                  NaN                  NaN      2     NaN       NaN  \n",
            "top                     NaN                  NaN   Male     NaN       NaN  \n",
            "freq                    NaN                  NaN      3     NaN       NaN  \n",
            "mean               7.400000  2016-08-20 00:00:00    NaN  5500.0  4.100000  \n",
            "min                3.000000  2010-11-25 00:00:00    NaN  4500.0  3.500000  \n",
            "25%                4.000000  2013-06-01 00:00:00    NaN  5000.0  3.800000  \n",
            "50%                8.000000  2017-07-19 00:00:00    NaN  5000.0  4.000000  \n",
            "75%               10.000000  2020-03-15 00:00:00    NaN  6000.0  4.500000  \n",
            "max               12.000000  2021-02-10 00:00:00    NaN  7000.0  4.700000  \n",
            "std                3.847077                  NaN    NaN  1000.0  0.494975  \n",
            "   Employee_ID     Name Department  Age  Salary  Years_of_Experience  \\\n",
            "0          101    Alice         HR   29   50000                    4   \n",
            "1          102      Bob         IT   34   70000                    8   \n",
            "2          103  Charlie         IT   41   65000                   10   \n",
            "3          104    Diana  Marketing   28   55000                    3   \n",
            "4          105   Edward      Sales   38   60000                   12   \n",
            "\n",
            "  Joining_Date  Gender  Bonus  Rating  \n",
            "0   2020-03-15  Female   5000     4.5  \n",
            "1   2017-07-19    Male   7000     4.0  \n",
            "2   2013-06-01    Male   6000     3.8  \n",
            "3   2021-02-10  Female   4500     4.7  \n",
            "4   2010-11-25    Male   5000     3.5  \n",
            "   Employee_ID     Name Department  Age  Salary  Years_of_Experience  \\\n",
            "2          103  Charlie         IT   41   65000                   10   \n",
            "3          104    Diana  Marketing   28   55000                    3   \n",
            "4          105   Edward      Sales   38   60000                   12   \n",
            "\n",
            "  Joining_Date  Gender  Bonus  Rating  \n",
            "2   2013-06-01    Male   6000     3.8  \n",
            "3   2021-02-10  Female   4500     4.7  \n",
            "4   2010-11-25    Male   5000     3.5  \n",
            "Average Salary: 60000.0\n",
            "Total Bonus: 27500\n",
            "Youngest Age: 28\n",
            "Highest Rating: 4.7\n",
            "   Employee_ID     Name Department  Age  Salary  Years_of_Experience  \\\n",
            "1          102      Bob         IT   34   70000                    8   \n",
            "2          103  Charlie         IT   41   65000                   10   \n",
            "4          105   Edward      Sales   38   60000                   12   \n",
            "3          104    Diana  Marketing   28   55000                    3   \n",
            "0          101    Alice         HR   29   50000                    4   \n",
            "\n",
            "  Joining_Date  Gender  Bonus  Rating  \n",
            "1   2017-07-19    Male   7000     4.0  \n",
            "2   2013-06-01    Male   6000     3.8  \n",
            "4   2010-11-25    Male   5000     3.5  \n",
            "3   2021-02-10  Female   4500     4.7  \n",
            "0   2020-03-15  Female   5000     4.5  \n",
            "Employee_ID            0\n",
            "Name                   0\n",
            "Department             0\n",
            "Age                    0\n",
            "Salary                 0\n",
            "Years_of_Experience    0\n",
            "Joining_Date           0\n",
            "Gender                 0\n",
            "Bonus                  0\n",
            "Rating                 0\n",
            "Performance            0\n",
            "dtype: int64\n",
            "    ID     Name Department  Age  Salary  Years_of_Experience Joining_Date  \\\n",
            "1  102      Bob         IT   34   70000                    8   2017-07-19   \n",
            "2  103  Charlie         IT   41   65000                   10   2013-06-01   \n",
            "4  105   Edward      Sales   38   60000                   12   2010-11-25   \n",
            "\n",
            "  Gender  Bonus  Rating Performance  \n",
            "1   Male   7000     4.0        Good  \n",
            "2   Male   6000     3.8     Average  \n",
            "4   Male   5000     3.5     Average  \n",
            "    ID     Name Department  Age  Salary  Years_of_Experience Joining_Date  \\\n",
            "1  102      Bob         IT   34   70000                    8   2017-07-19   \n",
            "2  103  Charlie         IT   41   65000                   10   2013-06-01   \n",
            "\n",
            "  Gender  Bonus  Rating Performance  \n",
            "1   Male   7000     4.0        Good  \n",
            "2   Male   6000     3.8     Average  \n"
          ]
        }
      ]
    }
  ]
}