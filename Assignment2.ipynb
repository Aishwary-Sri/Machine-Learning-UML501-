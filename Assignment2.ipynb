{
  "cells": [
    {
      "cell_type": "code",
      "source": [
        "import pandas as pd\n",
        "import kagglehub\n",
        "\n",
        "data = kagglehub.dataset_download(\"jahias/microsoft-adventure-works-cycles-customer-data\",path=\"AWCustomers.csv\")\n",
        "df = pd.read_csv(data)"
      ],
      "metadata": {
        "id": "8MXeK5w0lDYy"
      },
      "id": "8MXeK5w0lDYy",
      "execution_count": 10,
      "outputs": []
    },
    {
      "cell_type": "code",
      "source": [
        "print(df.info())\n",
        "print(df.describe())"
      ],
      "metadata": {
        "colab": {
          "base_uri": "https://localhost:8080/"
        },
        "id": "ZUu2FlaPohl8",
        "outputId": "aa1d7151-5dc9-4be4-da15-42a9272cf7e9"
      },
      "id": "ZUu2FlaPohl8",
      "execution_count": 11,
      "outputs": [
        {
          "output_type": "stream",
          "name": "stdout",
          "text": [
            "<class 'pandas.core.frame.DataFrame'>\n",
            "RangeIndex: 18361 entries, 0 to 18360\n",
            "Data columns (total 24 columns):\n",
            " #   Column                Non-Null Count  Dtype \n",
            "---  ------                --------------  ----- \n",
            " 0   CustomerID            18361 non-null  int64 \n",
            " 1   Title                 101 non-null    object\n",
            " 2   FirstName             18361 non-null  object\n",
            " 3   MiddleName            10572 non-null  object\n",
            " 4   LastName              18361 non-null  object\n",
            " 5   Suffix                3 non-null      object\n",
            " 6   AddressLine1          18361 non-null  object\n",
            " 7   AddressLine2          311 non-null    object\n",
            " 8   City                  18361 non-null  object\n",
            " 9   StateProvinceName     18361 non-null  object\n",
            " 10  CountryRegionName     18361 non-null  object\n",
            " 11  PostalCode            18361 non-null  object\n",
            " 12  PhoneNumber           18361 non-null  object\n",
            " 13  BirthDate             18361 non-null  object\n",
            " 14  Education             18361 non-null  object\n",
            " 15  Occupation            18361 non-null  object\n",
            " 16  Gender                18361 non-null  object\n",
            " 17  MaritalStatus         18361 non-null  object\n",
            " 18  HomeOwnerFlag         18361 non-null  int64 \n",
            " 19  NumberCarsOwned       18361 non-null  int64 \n",
            " 20  NumberChildrenAtHome  18361 non-null  int64 \n",
            " 21  TotalChildren         18361 non-null  int64 \n",
            " 22  YearlyIncome          18361 non-null  int64 \n",
            " 23  LastUpdated           18361 non-null  object\n",
            "dtypes: int64(6), object(18)\n",
            "memory usage: 3.4+ MB\n",
            "None\n",
            "         CustomerID  HomeOwnerFlag  NumberCarsOwned  NumberChildrenAtHome  \\\n",
            "count  18361.000000   18361.000000     18361.000000          18361.000000   \n",
            "mean   20241.987092       0.610588         1.270301              0.338162   \n",
            "std     5336.332731       0.487630         0.913989              0.568957   \n",
            "min    11000.000000       0.000000         0.000000              0.000000   \n",
            "25%    15621.000000       0.000000         1.000000              0.000000   \n",
            "50%    20248.000000       1.000000         1.000000              0.000000   \n",
            "75%    24863.000000       1.000000         2.000000              1.000000   \n",
            "max    29483.000000       1.000000         5.000000              3.000000   \n",
            "\n",
            "       TotalChildren   YearlyIncome  \n",
            "count   18361.000000   18361.000000  \n",
            "mean        0.850389   72754.779642  \n",
            "std         0.927315   30686.014313  \n",
            "min         0.000000   25435.000000  \n",
            "25%         0.000000   53312.000000  \n",
            "50%         0.000000   61851.000000  \n",
            "75%         2.000000   87410.000000  \n",
            "max         3.000000  139115.000000  \n"
          ]
        }
      ]
    },
    {
      "cell_type": "markdown",
      "id": "4c8c9115",
      "metadata": {
        "id": "4c8c9115"
      },
      "source": [
        "Part I:"
      ]
    },
    {
      "cell_type": "code",
      "execution_count": 21,
      "id": "66d23988",
      "metadata": {
        "id": "66d23988"
      },
      "outputs": [],
      "source": [
        "# a)\n",
        "data = df[['Education','Occupation','Gender','MaritalStatus','HomeOwnerFlag','NumberCarsOwned','TotalChildren','YearlyIncome']]\n",
        "\n",
        "# b)\n",
        "df_new = data.copy()\n",
        "\n",
        "# c)\n",
        "# Education -> Discrete (Ordinal)\n",
        "# Occupation -> Discrete (Nominal)\n",
        "# Gender -> Discrete (Nominal)\n",
        "# MaritalStatus -> Discrete (Nominal)\n",
        "# HomeOwnerFlag -> Discrete (Binary Nominal)\n",
        "# NumberCarsOwned -> Discrete (Ordinal)\n",
        "# TotalChildren -> Discrete (Ordinal)\n",
        "# YearlyIncome -> Continuous (Ratio)"
      ]
    },
    {
      "cell_type": "markdown",
      "id": "aa5ed3bf",
      "metadata": {
        "id": "aa5ed3bf"
      },
      "source": [
        "Part II:"
      ]
    },
    {
      "cell_type": "code",
      "execution_count": 24,
      "id": "410046d7",
      "metadata": {
        "colab": {
          "base_uri": "https://localhost:8080/"
        },
        "id": "410046d7",
        "outputId": "ac669e84-7819-4b0b-cbd1-148097c43836"
      },
      "outputs": [
        {
          "output_type": "stream",
          "name": "stderr",
          "text": [
            "/tmp/ipython-input-1694248084.py:7: SettingWithCopyWarning: \n",
            "A value is trying to be set on a copy of a slice from a DataFrame.\n",
            "Try using .loc[row_indexer,col_indexer] = value instead\n",
            "\n",
            "See the caveats in the documentation: https://pandas.pydata.org/pandas-docs/stable/user_guide/indexing.html#returning-a-view-versus-a-copy\n",
            "  data[numerical_cols] = imputer.fit_transform(data[numerical_cols])\n",
            "/tmp/ipython-input-1694248084.py:11: SettingWithCopyWarning: \n",
            "A value is trying to be set on a copy of a slice from a DataFrame.\n",
            "Try using .loc[row_indexer,col_indexer] = value instead\n",
            "\n",
            "See the caveats in the documentation: https://pandas.pydata.org/pandas-docs/stable/user_guide/indexing.html#returning-a-view-versus-a-copy\n",
            "  data['YearlyIncome'] = scaler.fit_transform(data[['YearlyIncome']])\n",
            "/usr/local/lib/python3.11/dist-packages/sklearn/preprocessing/_discretization.py:306: UserWarning: Bins whose width are too small (i.e., <= 1e-8) in feature 0 are removed. Consider decreasing the number of bins.\n",
            "  warnings.warn(\n",
            "/tmp/ipython-input-1694248084.py:15: SettingWithCopyWarning: \n",
            "A value is trying to be set on a copy of a slice from a DataFrame.\n",
            "Try using .loc[row_indexer,col_indexer] = value instead\n",
            "\n",
            "See the caveats in the documentation: https://pandas.pydata.org/pandas-docs/stable/user_guide/indexing.html#returning-a-view-versus-a-copy\n",
            "  data['YearlyIncome'] = kbins_income.fit_transform(data[['YearlyIncome']])\n",
            "/tmp/ipython-input-1694248084.py:19: SettingWithCopyWarning: \n",
            "A value is trying to be set on a copy of a slice from a DataFrame.\n",
            "Try using .loc[row_indexer,col_indexer] = value instead\n",
            "\n",
            "See the caveats in the documentation: https://pandas.pydata.org/pandas-docs/stable/user_guide/indexing.html#returning-a-view-versus-a-copy\n",
            "  data['YearlyIncome'] = std_scaler.fit_transform(data[['YearlyIncome']])\n"
          ]
        }
      ],
      "source": [
        "from sklearn.preprocessing import MinMaxScaler, StandardScaler, OneHotEncoder, KBinsDiscretizer\n",
        "from sklearn.impute import SimpleImputer\n",
        "\n",
        "# a)\n",
        "imputer = SimpleImputer(strategy='mean')\n",
        "numerical_cols = ['HomeOwnerFlag','NumberCarsOwned','TotalChildren','YearlyIncome']\n",
        "data[numerical_cols] = imputer.fit_transform(data[numerical_cols])\n",
        "\n",
        "# b)\n",
        "scaler = MinMaxScaler()\n",
        "data['YearlyIncome'] = scaler.fit_transform(data[['YearlyIncome']])\n",
        "\n",
        "# c)\n",
        "kbins_income = KBinsDiscretizer(n_bins=5, encode='ordinal', strategy='quantile')\n",
        "data['YearlyIncome'] = kbins_income.fit_transform(data[['YearlyIncome']])\n",
        "\n",
        "# d)\n",
        "std_scaler = StandardScaler()\n",
        "data['YearlyIncome'] = std_scaler.fit_transform(data[['YearlyIncome']])\n",
        "\n",
        "# e)\n",
        "categorical_features = ['Gender', 'MaritalStatus', 'Education', 'Occupation']\n",
        "encoder = OneHotEncoder(sparse_output=False, drop='first')\n",
        "encoded_data = encoder.fit_transform(data[categorical_features])\n",
        "encoded_df = pd.DataFrame(encoded_data, columns=encoder.get_feature_names_out(categorical_features))\n",
        "\n",
        "df_final = pd.concat([data.drop(columns=categorical_features), encoded_df], axis=1)"
      ]
    },
    {
      "cell_type": "markdown",
      "id": "3cb9605a",
      "metadata": {
        "id": "3cb9605a"
      },
      "source": [
        "Part III:"
      ]
    },
    {
      "cell_type": "code",
      "execution_count": 23,
      "id": "c49ab09e",
      "metadata": {
        "id": "c49ab09e",
        "colab": {
          "base_uri": "https://localhost:8080/",
          "height": 547
        },
        "outputId": "df7c4aab-f6f6-47cc-e013-f71d0b454b30"
      },
      "outputs": [
        {
          "output_type": "error",
          "ename": "KeyError",
          "evalue": "'CommuteDistance'",
          "traceback": [
            "\u001b[0;31m---------------------------------------------------------------------------\u001b[0m",
            "\u001b[0;31mKeyError\u001b[0m                                  Traceback (most recent call last)",
            "\u001b[0;32m/usr/local/lib/python3.11/dist-packages/pandas/core/indexes/base.py\u001b[0m in \u001b[0;36mget_loc\u001b[0;34m(self, key)\u001b[0m\n\u001b[1;32m   3804\u001b[0m         \u001b[0;32mtry\u001b[0m\u001b[0;34m:\u001b[0m\u001b[0;34m\u001b[0m\u001b[0;34m\u001b[0m\u001b[0m\n\u001b[0;32m-> 3805\u001b[0;31m             \u001b[0;32mreturn\u001b[0m \u001b[0mself\u001b[0m\u001b[0;34m.\u001b[0m\u001b[0m_engine\u001b[0m\u001b[0;34m.\u001b[0m\u001b[0mget_loc\u001b[0m\u001b[0;34m(\u001b[0m\u001b[0mcasted_key\u001b[0m\u001b[0;34m)\u001b[0m\u001b[0;34m\u001b[0m\u001b[0;34m\u001b[0m\u001b[0m\n\u001b[0m\u001b[1;32m   3806\u001b[0m         \u001b[0;32mexcept\u001b[0m \u001b[0mKeyError\u001b[0m \u001b[0;32mas\u001b[0m \u001b[0merr\u001b[0m\u001b[0;34m:\u001b[0m\u001b[0;34m\u001b[0m\u001b[0;34m\u001b[0m\u001b[0m\n",
            "\u001b[0;32mindex.pyx\u001b[0m in \u001b[0;36mpandas._libs.index.IndexEngine.get_loc\u001b[0;34m()\u001b[0m\n",
            "\u001b[0;32mindex.pyx\u001b[0m in \u001b[0;36mpandas._libs.index.IndexEngine.get_loc\u001b[0;34m()\u001b[0m\n",
            "\u001b[0;32mpandas/_libs/hashtable_class_helper.pxi\u001b[0m in \u001b[0;36mpandas._libs.hashtable.PyObjectHashTable.get_item\u001b[0;34m()\u001b[0m\n",
            "\u001b[0;32mpandas/_libs/hashtable_class_helper.pxi\u001b[0m in \u001b[0;36mpandas._libs.hashtable.PyObjectHashTable.get_item\u001b[0;34m()\u001b[0m\n",
            "\u001b[0;31mKeyError\u001b[0m: 'CommuteDistance'",
            "\nThe above exception was the direct cause of the following exception:\n",
            "\u001b[0;31mKeyError\u001b[0m                                  Traceback (most recent call last)",
            "\u001b[0;32m/tmp/ipython-input-2291457733.py\u001b[0m in \u001b[0;36m<cell line: 0>\u001b[0;34m()\u001b[0m\n\u001b[1;32m     17\u001b[0m     \u001b[0;34m'5-10 Miles'\u001b[0m\u001b[0;34m:\u001b[0m \u001b[0;36m4\u001b[0m\u001b[0;34m,\u001b[0m \u001b[0;34m'10+ Miles'\u001b[0m\u001b[0;34m:\u001b[0m \u001b[0;36m5\u001b[0m\u001b[0;34m\u001b[0m\u001b[0;34m\u001b[0m\u001b[0m\n\u001b[1;32m     18\u001b[0m }\n\u001b[0;32m---> 19\u001b[0;31m \u001b[0mdata\u001b[0m\u001b[0;34m[\u001b[0m\u001b[0;34m'CommuteDistance_num'\u001b[0m\u001b[0;34m]\u001b[0m \u001b[0;34m=\u001b[0m \u001b[0mdata\u001b[0m\u001b[0;34m[\u001b[0m\u001b[0;34m'CommuteDistance'\u001b[0m\u001b[0;34m]\u001b[0m\u001b[0;34m.\u001b[0m\u001b[0mmap\u001b[0m\u001b[0;34m(\u001b[0m\u001b[0mcommute_mapping\u001b[0m\u001b[0;34m)\u001b[0m\u001b[0;34m\u001b[0m\u001b[0;34m\u001b[0m\u001b[0m\n\u001b[0m\u001b[1;32m     20\u001b[0m \u001b[0mcorr\u001b[0m\u001b[0;34m,\u001b[0m \u001b[0mp_value\u001b[0m \u001b[0;34m=\u001b[0m \u001b[0mpearsonr\u001b[0m\u001b[0;34m(\u001b[0m\u001b[0mdata\u001b[0m\u001b[0;34m[\u001b[0m\u001b[0;34m'CommuteDistance_num'\u001b[0m\u001b[0;34m]\u001b[0m\u001b[0;34m,\u001b[0m \u001b[0mdata\u001b[0m\u001b[0;34m[\u001b[0m\u001b[0;34m'YearlyIncome'\u001b[0m\u001b[0;34m]\u001b[0m\u001b[0;34m)\u001b[0m\u001b[0;34m\u001b[0m\u001b[0;34m\u001b[0m\u001b[0m\n\u001b[1;32m     21\u001b[0m \u001b[0;34m\u001b[0m\u001b[0m\n",
            "\u001b[0;32m/usr/local/lib/python3.11/dist-packages/pandas/core/frame.py\u001b[0m in \u001b[0;36m__getitem__\u001b[0;34m(self, key)\u001b[0m\n\u001b[1;32m   4100\u001b[0m             \u001b[0;32mif\u001b[0m \u001b[0mself\u001b[0m\u001b[0;34m.\u001b[0m\u001b[0mcolumns\u001b[0m\u001b[0;34m.\u001b[0m\u001b[0mnlevels\u001b[0m \u001b[0;34m>\u001b[0m \u001b[0;36m1\u001b[0m\u001b[0;34m:\u001b[0m\u001b[0;34m\u001b[0m\u001b[0;34m\u001b[0m\u001b[0m\n\u001b[1;32m   4101\u001b[0m                 \u001b[0;32mreturn\u001b[0m \u001b[0mself\u001b[0m\u001b[0;34m.\u001b[0m\u001b[0m_getitem_multilevel\u001b[0m\u001b[0;34m(\u001b[0m\u001b[0mkey\u001b[0m\u001b[0;34m)\u001b[0m\u001b[0;34m\u001b[0m\u001b[0;34m\u001b[0m\u001b[0m\n\u001b[0;32m-> 4102\u001b[0;31m             \u001b[0mindexer\u001b[0m \u001b[0;34m=\u001b[0m \u001b[0mself\u001b[0m\u001b[0;34m.\u001b[0m\u001b[0mcolumns\u001b[0m\u001b[0;34m.\u001b[0m\u001b[0mget_loc\u001b[0m\u001b[0;34m(\u001b[0m\u001b[0mkey\u001b[0m\u001b[0;34m)\u001b[0m\u001b[0;34m\u001b[0m\u001b[0;34m\u001b[0m\u001b[0m\n\u001b[0m\u001b[1;32m   4103\u001b[0m             \u001b[0;32mif\u001b[0m \u001b[0mis_integer\u001b[0m\u001b[0;34m(\u001b[0m\u001b[0mindexer\u001b[0m\u001b[0;34m)\u001b[0m\u001b[0;34m:\u001b[0m\u001b[0;34m\u001b[0m\u001b[0;34m\u001b[0m\u001b[0m\n\u001b[1;32m   4104\u001b[0m                 \u001b[0mindexer\u001b[0m \u001b[0;34m=\u001b[0m \u001b[0;34m[\u001b[0m\u001b[0mindexer\u001b[0m\u001b[0;34m]\u001b[0m\u001b[0;34m\u001b[0m\u001b[0;34m\u001b[0m\u001b[0m\n",
            "\u001b[0;32m/usr/local/lib/python3.11/dist-packages/pandas/core/indexes/base.py\u001b[0m in \u001b[0;36mget_loc\u001b[0;34m(self, key)\u001b[0m\n\u001b[1;32m   3810\u001b[0m             ):\n\u001b[1;32m   3811\u001b[0m                 \u001b[0;32mraise\u001b[0m \u001b[0mInvalidIndexError\u001b[0m\u001b[0;34m(\u001b[0m\u001b[0mkey\u001b[0m\u001b[0;34m)\u001b[0m\u001b[0;34m\u001b[0m\u001b[0;34m\u001b[0m\u001b[0m\n\u001b[0;32m-> 3812\u001b[0;31m             \u001b[0;32mraise\u001b[0m \u001b[0mKeyError\u001b[0m\u001b[0;34m(\u001b[0m\u001b[0mkey\u001b[0m\u001b[0;34m)\u001b[0m \u001b[0;32mfrom\u001b[0m \u001b[0merr\u001b[0m\u001b[0;34m\u001b[0m\u001b[0;34m\u001b[0m\u001b[0m\n\u001b[0m\u001b[1;32m   3813\u001b[0m         \u001b[0;32mexcept\u001b[0m \u001b[0mTypeError\u001b[0m\u001b[0;34m:\u001b[0m\u001b[0;34m\u001b[0m\u001b[0;34m\u001b[0m\u001b[0m\n\u001b[1;32m   3814\u001b[0m             \u001b[0;31m# If we have a listlike key, _check_indexing_error will raise\u001b[0m\u001b[0;34m\u001b[0m\u001b[0;34m\u001b[0m\u001b[0m\n",
            "\u001b[0;31mKeyError\u001b[0m: 'CommuteDistance'"
          ]
        }
      ],
      "source": [
        "import numpy as np\n",
        "from sklearn.metrics.pairwise import cosine_similarity\n",
        "from scipy.spatial.distance import jaccard\n",
        "from scipy.stats import pearsonr\n",
        "\n",
        "# a)\n",
        "obj1 = df_final.iloc[0].values.reshape(1, -1)\n",
        "obj2 = df_final.iloc[1].values.reshape(1, -1)\n",
        "\n",
        "simple_matching = 1 - np.mean(obj1 != obj2)\n",
        "jaccard_sim = 1 - jaccard(obj1.flatten(), obj2.flatten())\n",
        "cos_sim = cosine_similarity(obj1, obj2)[0][0]\n",
        "\n",
        "# b)\n",
        "commute_mapping = {\n",
        "    '0-1 Miles': 1, '1-2 Miles': 2, '2-5 Miles': 3,\n",
        "    '5-10 Miles': 4, '10+ Miles': 5\n",
        "}\n",
        "data['CommuteDistance_num'] = data['CommuteDistance'].map(commute_mapping)\n",
        "corr, p_value = pearsonr(data['CommuteDistance_num'], data['YearlyIncome'])\n",
        "print(\"Simple Matching Similarity:\", simple_matching)\n",
        "print(\"Jaccard Similarity:\", jaccard_sim)\n",
        "print(\"Cosine Similarity:\", cos_sim)\n",
        "print(\"Correlation (Commute Distance vs Yearly Income):\", corr, \" | p-value:\", p_value)\n"
      ]
    }
  ],
  "metadata": {
    "colab": {
      "provenance": []
    },
    "language_info": {
      "name": "python"
    },
    "kernelspec": {
      "name": "python3",
      "display_name": "Python 3"
    }
  },
  "nbformat": 4,
  "nbformat_minor": 5
}